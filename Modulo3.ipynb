{
 "cells": [
  {
   "cell_type": "markdown",
   "metadata": {},
   "source": [
    "# Un asteroide se dirige a la tierra\n"
   ]
  },
  {
   "cell_type": "code",
   "execution_count": 7,
   "metadata": {},
   "outputs": [
    {
     "name": "stdout",
     "output_type": "stream",
     "text": [
      "¡ADVERTENCIA TODOS DEBEN IR A LOS REFUGIOS!\n"
     ]
    }
   ],
   "source": [
    "veliAst = 49\n",
    "\n",
    "if veliAst > 25 :{\n",
    "    print (\"¡ADVERTENCIA TODOS DEBEN IR A LOS REFUGIOS!\")\n",
    "}\n",
    "else:{\n",
    "    print(\"Parece que todo esta correcto en el espacio\")\n",
    "}\n"
   ]
  },
  {
   "cell_type": "markdown",
   "metadata": {},
   "source": [
    "# Rayo de luz"
   ]
  },
  {
   "cell_type": "code",
   "execution_count": 8,
   "metadata": {},
   "outputs": [
    {
     "name": "stdout",
     "output_type": "stream",
     "text": [
      "El asteroide no podra ser visto\n"
     ]
    }
   ],
   "source": [
    "veliAst = 19\n",
    "if veliAst >= 20:\n",
    "    print(\"Busquen en el cielo la luz del asteroide\")\n",
    "elif veliAst < 20 and veliAst > 1:\n",
    "    print(\"El asteroide no podra ser visto\")\n",
    "else:\n",
    "    print(\"Todo bien\")"
   ]
  },
  {
   "cell_type": "markdown",
   "metadata": {},
   "source": [
    "# Sistema para dar informacion correcta de un asteroide"
   ]
  },
  {
   "cell_type": "code",
   "execution_count": 9,
   "metadata": {},
   "outputs": [
    {
     "name": "stdout",
     "output_type": "stream",
     "text": [
      "¡ADVERTENCIA TODOS DEBEN IR A LOS REFUGIOS EL DAÑO SERA CATASTROFICO!\n"
     ]
    }
   ],
   "source": [
    "veliAst = 100\n",
    "tamAst = 100\n",
    "if veliAst < 20 or tamAst < 25:\n",
    "    print(\"Viene un asteroide pero no hay ningun riesgo de daños\")\n",
    "elif veliAst >= 20 and tamAst < 25 :\n",
    "    print(\"Viene un asteroide sal a ver como se deshace\")\n",
    "elif veliAst >= 25 and tamAst < 25 :\n",
    "    print(\"Viene un asteroide riesgo considerable se recomienda no salir de casa\")\n",
    "else: #En este caso se considera asi ya que todas las demas posibilidades ya estan cubiertas\n",
    "    print(\"¡ADVERTENCIA TODOS DEBEN IR A LOS REFUGIOS EL DAÑO SERA CATASTROFICO!\")"
   ]
  },
  {
   "cell_type": "markdown",
   "metadata": {},
   "source": [
    "## Ejemplo propio"
   ]
  },
  {
   "cell_type": "markdown",
   "metadata": {},
   "source": [
    "## Usando IF"
   ]
  },
  {
   "cell_type": "code",
   "execution_count": 3,
   "metadata": {},
   "outputs": [
    {
     "name": "stdout",
     "output_type": "stream",
     "text": [
      "El sistema no responde\n"
     ]
    }
   ],
   "source": [
    "interruptor = 0\n",
    "if interruptor == 0:{\n",
    "    print (\"El sistema no responde\")\n",
    "}\n",
    "    "
   ]
  },
  {
   "cell_type": "markdown",
   "metadata": {},
   "source": [
    "## Usando if, elif y else"
   ]
  },
  {
   "cell_type": "code",
   "execution_count": 5,
   "metadata": {},
   "outputs": [
    {
     "name": "stdout",
     "output_type": "stream",
     "text": [
      "El sistema funciona correctamente\n"
     ]
    }
   ],
   "source": [
    "interruptor = 1\n",
    "if interruptor == 0:{\n",
    "    print (\"El sistema no responde\")\n",
    "}\n",
    "elif interruptor == 1:{\n",
    "    print (\"El sistema funciona correctamente\")\n",
    "}\n",
    "else:{\n",
    "    print (\"No tienes los permisos para operar este sistema\")\n",
    "}"
   ]
  }
 ],
 "metadata": {
  "interpreter": {
   "hash": "579282893146967bc5d17141c601e8a8b8ad4a0a2a5a6fe1c87b1000077400d7"
  },
  "kernelspec": {
   "display_name": "Python 3.9.7 ('base')",
   "language": "python",
   "name": "python3"
  },
  "language_info": {
   "codemirror_mode": {
    "name": "ipython",
    "version": 3
   },
   "file_extension": ".py",
   "mimetype": "text/x-python",
   "name": "python",
   "nbconvert_exporter": "python",
   "pygments_lexer": "ipython3",
   "version": "3.9.7"
  },
  "orig_nbformat": 4
 },
 "nbformat": 4,
 "nbformat_minor": 2
}
