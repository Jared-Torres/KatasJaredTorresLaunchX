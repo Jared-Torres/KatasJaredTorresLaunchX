{
 "cells": [
  {
   "cell_type": "markdown",
   "metadata": {},
   "source": [
    "# Funciones\n",
    "\n",
    "### Promedio combustible"
   ]
  },
  {
   "cell_type": "code",
   "execution_count": 9,
   "metadata": {},
   "outputs": [
    {
     "name": "stdout",
     "output_type": "stream",
     "text": [
      "Promedio de combustible = 20.0\n"
     ]
    }
   ],
   "source": [
    "def average(*values):\n",
    "    total = sum(values)\n",
    "    number_of_items = len(values)\n",
    "    return total / number_of_items\n",
    "\n",
    "def reporteCombustible(tanque1, tanque2, tanque3):\n",
    "    promedio = average(tanque1,tanque2,tanque3) \n",
    "    print(f'Promedio de combustible = {promedio}')\n",
    "\n",
    "tanque1 = 10\n",
    "tanque2 = 20\n",
    "tanque3 = 30\n",
    "reporteCombustible(tanque1, tanque2, tanque3)"
   ]
  },
  {
   "cell_type": "markdown",
   "metadata": {},
   "source": [
    "### Ejercicio 2"
   ]
  },
  {
   "cell_type": "code",
   "execution_count": 13,
   "metadata": {},
   "outputs": [
    {
     "name": "stdout",
     "output_type": "stream",
     "text": [
      "\n",
      "    Mision a Saturno\n",
      "    Tiempo total de vuelo: 83 minutos\n",
      "    Cantidad de combustible actual: 5000000 galones\n",
      "    \n",
      "\n",
      "    Mision a Saturno\n",
      "    Tiempo total de vuelo: 93 horas\n",
      "    Cantidad de combustible actual: 5000000\n",
      "    \n",
      "\n",
      "    Mision a Saturno\n",
      "    Tiempo total de vuelo: 130 horas\n",
      "    Cantidad de combustible actual: 5000000\n",
      "    Tanque principal  --> 3000000 galones de reserva\n",
      "Tanque externo  --> 2000000 galones de reserva\n",
      "\n"
     ]
    }
   ],
   "source": [
    "\n",
    "def reporte(preLanzamiento, timeVuelo, destino, tanqueExterno, tanquePrincipal):\n",
    "    return f\"\"\"\n",
    "    Mision a {destino}\n",
    "    Tiempo total de vuelo: {preLanzamiento + timeVuelo} minutos\n",
    "    Cantidad de combustible actual: {tanqueExterno + tanquePrincipal} galones\n",
    "    \"\"\"\n",
    "\n",
    "print(reporte(23, 60, \"Saturno\", 2000000, 3000000))\n",
    "\n",
    "def reporte(destino, *minutes, **fuel_reservoirs):\n",
    "    return f\"\"\"\n",
    "    Mision a {destino}\n",
    "    Tiempo total de vuelo: {sum(minutes)} horas\n",
    "    Cantidad de combustible actual: {sum(fuel_reservoirs.values())}\n",
    "    \"\"\"\n",
    "\n",
    "print(reporte(\"Saturno\", 10, 23, 60, main=3000000, external=2000000))\n",
    "\n",
    "\n",
    "def reporte(destino, *minutes, **fuel_reservoirs):\n",
    "    main_report = f\"\"\"\n",
    "    Mision a {destino}\n",
    "    Tiempo total de vuelo: {sum(minutes)} horas\n",
    "    Cantidad de combustible actual: {sum(fuel_reservoirs.values())}\n",
    "    \"\"\"\n",
    "    for tank_name, gallons in fuel_reservoirs.items():\n",
    "        main_report += f\"Tanque {tank_name}  --> {gallons} galones de reserva\\n\"\n",
    "    return main_report\n",
    "\n",
    "print(reporte(\"Saturno\", 10, 20, 100, principal=3000000, externo=2000000))"
   ]
  }
 ],
 "metadata": {
  "interpreter": {
   "hash": "579282893146967bc5d17141c601e8a8b8ad4a0a2a5a6fe1c87b1000077400d7"
  },
  "kernelspec": {
   "display_name": "Python 3.9.7 ('base')",
   "language": "python",
   "name": "python3"
  },
  "language_info": {
   "codemirror_mode": {
    "name": "ipython",
    "version": 3
   },
   "file_extension": ".py",
   "mimetype": "text/x-python",
   "name": "python",
   "nbconvert_exporter": "python",
   "pygments_lexer": "ipython3",
   "version": "3.9.7"
  },
  "orig_nbformat": 4
 },
 "nbformat": 4,
 "nbformat_minor": 2
}
